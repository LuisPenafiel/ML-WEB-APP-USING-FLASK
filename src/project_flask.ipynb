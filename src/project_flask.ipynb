{
    "cells": [
        {
            "cell_type": "markdown",
            "metadata": {},
            "source": [
                "# All Install"
            ]
        },
        {
            "cell_type": "code",
            "execution_count": 1,
            "metadata": {},
            "outputs": [
                {
                    "name": "stdout",
                    "output_type": "stream",
                    "text": [
                        "Defaulting to user installation because normal site-packages is not writeable\n",
                        "Requirement already satisfied: gunicorn in /home/vscode/.local/lib/python3.11/site-packages (from -r /workspaces/ML-WEB-APP-USING-FLASK/src/requirements.txt (line 1)) (21.2.0)\n",
                        "Requirement already satisfied: numpy in /home/vscode/.local/lib/python3.11/site-packages (from -r /workspaces/ML-WEB-APP-USING-FLASK/src/requirements.txt (line 2)) (1.26.4)\n",
                        "Requirement already satisfied: flask in /home/vscode/.local/lib/python3.11/site-packages (from -r /workspaces/ML-WEB-APP-USING-FLASK/src/requirements.txt (line 3)) (3.0.2)\n",
                        "Requirement already satisfied: joblib in /home/vscode/.local/lib/python3.11/site-packages (from -r /workspaces/ML-WEB-APP-USING-FLASK/src/requirements.txt (line 4)) (1.3.2)\n",
                        "Requirement already satisfied: scikit-learn in /home/vscode/.local/lib/python3.11/site-packages (from -r /workspaces/ML-WEB-APP-USING-FLASK/src/requirements.txt (line 5)) (1.4.0)\n",
                        "Requirement already satisfied: packaging in /home/vscode/.local/lib/python3.11/site-packages (from gunicorn->-r /workspaces/ML-WEB-APP-USING-FLASK/src/requirements.txt (line 1)) (23.2)\n",
                        "Requirement already satisfied: Werkzeug>=3.0.0 in /home/vscode/.local/lib/python3.11/site-packages (from flask->-r /workspaces/ML-WEB-APP-USING-FLASK/src/requirements.txt (line 3)) (3.0.1)\n",
                        "Requirement already satisfied: Jinja2>=3.1.2 in /home/vscode/.local/lib/python3.11/site-packages (from flask->-r /workspaces/ML-WEB-APP-USING-FLASK/src/requirements.txt (line 3)) (3.1.3)\n",
                        "Requirement already satisfied: itsdangerous>=2.1.2 in /home/vscode/.local/lib/python3.11/site-packages (from flask->-r /workspaces/ML-WEB-APP-USING-FLASK/src/requirements.txt (line 3)) (2.1.2)\n",
                        "Requirement already satisfied: click>=8.1.3 in /home/vscode/.local/lib/python3.11/site-packages (from flask->-r /workspaces/ML-WEB-APP-USING-FLASK/src/requirements.txt (line 3)) (8.1.7)\n",
                        "Requirement already satisfied: blinker>=1.6.2 in /home/vscode/.local/lib/python3.11/site-packages (from flask->-r /workspaces/ML-WEB-APP-USING-FLASK/src/requirements.txt (line 3)) (1.7.0)\n",
                        "Requirement already satisfied: scipy>=1.6.0 in /home/vscode/.local/lib/python3.11/site-packages (from scikit-learn->-r /workspaces/ML-WEB-APP-USING-FLASK/src/requirements.txt (line 5)) (1.12.0)\n",
                        "Requirement already satisfied: threadpoolctl>=2.0.0 in /home/vscode/.local/lib/python3.11/site-packages (from scikit-learn->-r /workspaces/ML-WEB-APP-USING-FLASK/src/requirements.txt (line 5)) (3.2.0)\n",
                        "Requirement already satisfied: MarkupSafe>=2.0 in /home/vscode/.local/lib/python3.11/site-packages (from Jinja2>=3.1.2->flask->-r /workspaces/ML-WEB-APP-USING-FLASK/src/requirements.txt (line 3)) (2.1.5)\n",
                        "Note: you may need to restart the kernel to use updated packages.\n"
                    ]
                }
            ],
            "source": [
                "pip install -r /workspaces/ML-WEB-APP-USING-FLASK/src/requirements.txt"
            ]
        },
        {
            "cell_type": "code",
            "execution_count": 2,
            "metadata": {},
            "outputs": [
                {
                    "name": "stdout",
                    "output_type": "stream",
                    "text": [
                        "Defaulting to user installation because normal site-packages is not writeable\n",
                        "Requirement already satisfied: pip in /home/vscode/.local/lib/python3.11/site-packages (24.0)\n",
                        "Note: you may need to restart the kernel to use updated packages.\n"
                    ]
                }
            ],
            "source": [
                "pip install --upgrade pip"
            ]
        },
        {
            "cell_type": "code",
            "execution_count": 3,
            "metadata": {},
            "outputs": [
                {
                    "name": "stdout",
                    "output_type": "stream",
                    "text": [
                        "Defaulting to user installation because normal site-packages is not writeable\n",
                        "Requirement already satisfied: gunicorn in /home/vscode/.local/lib/python3.11/site-packages (21.2.0)\n",
                        "Requirement already satisfied: packaging in /home/vscode/.local/lib/python3.11/site-packages (from gunicorn) (23.2)\n",
                        "Note: you may need to restart the kernel to use updated packages.\n"
                    ]
                }
            ],
            "source": [
                "pip install gunicorn\n"
            ]
        },
        {
            "cell_type": "code",
            "execution_count": 4,
            "metadata": {},
            "outputs": [
                {
                    "name": "stdout",
                    "output_type": "stream",
                    "text": [
                        "Defaulting to user installation because normal site-packages is not writeable\n",
                        "Requirement already satisfied: flask in /home/vscode/.local/lib/python3.11/site-packages (3.0.2)\n",
                        "Requirement already satisfied: Werkzeug>=3.0.0 in /home/vscode/.local/lib/python3.11/site-packages (from flask) (3.0.1)\n",
                        "Requirement already satisfied: Jinja2>=3.1.2 in /home/vscode/.local/lib/python3.11/site-packages (from flask) (3.1.3)\n",
                        "Requirement already satisfied: itsdangerous>=2.1.2 in /home/vscode/.local/lib/python3.11/site-packages (from flask) (2.1.2)\n",
                        "Requirement already satisfied: click>=8.1.3 in /home/vscode/.local/lib/python3.11/site-packages (from flask) (8.1.7)\n",
                        "Requirement already satisfied: blinker>=1.6.2 in /home/vscode/.local/lib/python3.11/site-packages (from flask) (1.7.0)\n",
                        "Requirement already satisfied: MarkupSafe>=2.0 in /home/vscode/.local/lib/python3.11/site-packages (from Jinja2>=3.1.2->flask) (2.1.5)\n",
                        "Note: you may need to restart the kernel to use updated packages.\n"
                    ]
                }
            ],
            "source": [
                "pip install flask"
            ]
        },
        {
            "cell_type": "markdown",
            "metadata": {},
            "source": [
                "# All Imports"
            ]
        },
        {
            "cell_type": "code",
            "execution_count": 5,
            "metadata": {},
            "outputs": [],
            "source": [
                "from flask import Flask, request, render_template\n",
                "import pickle as pickle\n",
                "from pickle import load\n",
                "import numpy as np\n",
                "import numpy as numpy\n",
                "import joblib as joblib\n",
                "import os\n"
            ]
        },
        {
            "cell_type": "code",
            "execution_count": null,
            "metadata": {},
            "outputs": [],
            "source": []
        },
        {
            "cell_type": "code",
            "execution_count": null,
            "metadata": {},
            "outputs": [],
            "source": []
        },
        {
            "cell_type": "code",
            "execution_count": null,
            "metadata": {},
            "outputs": [],
            "source": []
        },
        {
            "cell_type": "code",
            "execution_count": null,
            "metadata": {},
            "outputs": [],
            "source": []
        },
        {
            "cell_type": "code",
            "execution_count": null,
            "metadata": {},
            "outputs": [],
            "source": []
        },
        {
            "cell_type": "code",
            "execution_count": null,
            "metadata": {},
            "outputs": [],
            "source": []
        },
        {
            "cell_type": "code",
            "execution_count": null,
            "metadata": {},
            "outputs": [],
            "source": []
        },
        {
            "cell_type": "code",
            "execution_count": null,
            "metadata": {},
            "outputs": [],
            "source": []
        },
        {
            "cell_type": "code",
            "execution_count": null,
            "metadata": {},
            "outputs": [],
            "source": []
        },
        {
            "cell_type": "code",
            "execution_count": null,
            "metadata": {},
            "outputs": [],
            "source": []
        },
        {
            "cell_type": "code",
            "execution_count": null,
            "metadata": {},
            "outputs": [],
            "source": []
        },
        {
            "cell_type": "code",
            "execution_count": null,
            "metadata": {},
            "outputs": [],
            "source": []
        },
        {
            "cell_type": "code",
            "execution_count": null,
            "metadata": {},
            "outputs": [],
            "source": []
        },
        {
            "cell_type": "code",
            "execution_count": null,
            "metadata": {},
            "outputs": [],
            "source": []
        },
        {
            "cell_type": "code",
            "execution_count": null,
            "metadata": {},
            "outputs": [],
            "source": []
        },
        {
            "cell_type": "code",
            "execution_count": null,
            "metadata": {},
            "outputs": [],
            "source": []
        },
        {
            "cell_type": "code",
            "execution_count": 6,
            "metadata": {},
            "outputs": [],
            "source": [
                "# Your code here"
            ]
        }
    ],
    "metadata": {
        "kernelspec": {
            "display_name": "Python 3.8.13 64-bit ('3.8.13')",
            "language": "python",
            "name": "python3"
        },
        "language_info": {
            "codemirror_mode": {
                "name": "ipython",
                "version": 3
            },
            "file_extension": ".py",
            "mimetype": "text/x-python",
            "name": "python",
            "nbconvert_exporter": "python",
            "pygments_lexer": "ipython3",
            "version": "3.11.4"
        },
        "orig_nbformat": 4,
        "vscode": {
            "interpreter": {
                "hash": "110cc1dee26208153f2972f08a2ad52b6a56238dc66d48e87fb757ef2996db56"
            }
        }
    },
    "nbformat": 4,
    "nbformat_minor": 2
}
